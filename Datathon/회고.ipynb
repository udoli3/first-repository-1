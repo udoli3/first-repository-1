{
  "nbformat": 4,
  "nbformat_minor": 0,
  "metadata": {
    "colab": {
      "provenance": []
    },
    "kernelspec": {
      "name": "python3",
      "display_name": "Python 3"
    },
    "language_info": {
      "name": "python"
    }
  },
  "cells": [
    {
      "cell_type": "markdown",
      "metadata": {
        "id": "view-in-github"
      },
      "source": [
        "<a href=\"https://colab.research.google.com/github/xunzxe/first-repository/blob/master/Datathon/%ED%9A%8C%EA%B3%A0.ipynb\" target=\"_parent\"><img src=\"https://colab.research.google.com/assets/colab-badge.svg\" alt=\"Open In Colab\"/></a>"
      ]
    },
    {
      "cell_type": "markdown",
      "source": [
        "#**회고**\n",
        "- 서은재 : 배운 걸 적용해서 직접 원하는 대로 데이터분석을 해볼 수 있어서 재밌었다. 그 과정에서 뜻대로 되지 않거나 어떻게 해야할지 막막했던 순간들이 있었는데, 헤쳐 나가는 경험을 할 수 있었다. 팀원들과 함께 데이터 분석한 것을 연결하는 과정도 재밌었다.\n",
        "\n",
        "- 김동규 : 배우고 느낀 것은 많지만 막상 적으려니 표현하기가 어렵습니다.\n",
        "1. 데이터의 처리는 전 과제 해결 과정에서 연속임을 몸소 느꼈습니다.\n",
        "2. 문제를 잘 정의해야 적합한 모델에 접근할 수 있음을 절감했습니다.\n",
        "3. 팀원과 저는 상보적 관계임을 다시 한 번 체감했습니다.\n",
        "4. 부족함을 느꼈지만 그것이 또 재미있었습니다. 이상입니다."

        "- 김재이 : 데이터의 전처리를 위해 시각화할 때 matplotlib 의 folium 등의 라이브러리를 알게 되었습니다. 판다스로 가능한 분석의 역량을 체감한 것은 그 외에도 데이터프레임을 조작하는 속도 때문이었습니다.\n"
        "3일중 데이터 분석 및 전처리 그리고 베이스모델링에 이틀, 모델링에 하루를 분배해야한다는 걸 배웠습니다. 목적에 따라 적절한 도구의 선택과 동시에 전처리가 진행되므로, 데이터를 뜯어보는 시점부터 가능한 모델들을 탐색하고 구상하는 것이 효율적임을 알았습니다."
      ],
      "metadata": {
        "id": "NTRLPx8HKvn5"
      }
    }
  ]
}
